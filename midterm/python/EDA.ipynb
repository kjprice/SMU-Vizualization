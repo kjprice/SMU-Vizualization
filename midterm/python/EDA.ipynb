{
 "cells": [
  {
   "cell_type": "code",
   "execution_count": 1,
   "metadata": {
    "collapsed": false
   },
   "outputs": [],
   "source": [
    "import pandas as pd\n",
    "import numpy as np\n",
    "import matplotlib.pyplot as plt"
   ]
  },
  {
   "cell_type": "code",
   "execution_count": 2,
   "metadata": {
    "collapsed": true
   },
   "outputs": [],
   "source": [
    "guns = pd.read_csv('../data/GunViolenceClean.csv')"
   ]
  },
  {
   "cell_type": "code",
   "execution_count": 3,
   "metadata": {
    "collapsed": false
   },
   "outputs": [
    {
     "data": {
      "text/html": [
       "<div>\n",
       "<table border=\"1\" class=\"dataframe\">\n",
       "  <thead>\n",
       "    <tr style=\"text-align: right;\">\n",
       "      <th></th>\n",
       "      <th>GDP</th>\n",
       "      <th>Homicides</th>\n",
       "      <th>Suicides</th>\n",
       "      <th>Guns.Per.Capita</th>\n",
       "      <th>Cultural.Diversity.Index</th>\n",
       "    </tr>\n",
       "  </thead>\n",
       "  <tbody>\n",
       "    <tr>\n",
       "      <th>count</th>\n",
       "      <td>61.000000</td>\n",
       "      <td>75.00000</td>\n",
       "      <td>68.000000</td>\n",
       "      <td>73.000000</td>\n",
       "      <td>68.000000</td>\n",
       "    </tr>\n",
       "    <tr>\n",
       "      <th>mean</th>\n",
       "      <td>36203.278689</td>\n",
       "      <td>4.85120</td>\n",
       "      <td>1.057500</td>\n",
       "      <td>14.617671</td>\n",
       "      <td>0.224588</td>\n",
       "    </tr>\n",
       "    <tr>\n",
       "      <th>std</th>\n",
       "      <td>24776.810174</td>\n",
       "      <td>11.39684</td>\n",
       "      <td>1.309996</td>\n",
       "      <td>14.965012</td>\n",
       "      <td>0.182577</td>\n",
       "    </tr>\n",
       "    <tr>\n",
       "      <th>min</th>\n",
       "      <td>3700.000000</td>\n",
       "      <td>0.00000</td>\n",
       "      <td>0.000000</td>\n",
       "      <td>0.500000</td>\n",
       "      <td>0.000000</td>\n",
       "    </tr>\n",
       "    <tr>\n",
       "      <th>25%</th>\n",
       "      <td>17400.000000</td>\n",
       "      <td>0.15500</td>\n",
       "      <td>0.247500</td>\n",
       "      <td>5.800000</td>\n",
       "      <td>0.077750</td>\n",
       "    </tr>\n",
       "    <tr>\n",
       "      <th>50%</th>\n",
       "      <td>34100.000000</td>\n",
       "      <td>0.35000</td>\n",
       "      <td>0.785000</td>\n",
       "      <td>9.900000</td>\n",
       "      <td>0.169500</td>\n",
       "    </tr>\n",
       "    <tr>\n",
       "      <th>75%</th>\n",
       "      <td>49600.000000</td>\n",
       "      <td>2.85000</td>\n",
       "      <td>1.255000</td>\n",
       "      <td>21.700000</td>\n",
       "      <td>0.369250</td>\n",
       "    </tr>\n",
       "    <tr>\n",
       "      <th>max</th>\n",
       "      <td>124900.000000</td>\n",
       "      <td>66.64000</td>\n",
       "      <td>6.690000</td>\n",
       "      <td>101.000000</td>\n",
       "      <td>0.667000</td>\n",
       "    </tr>\n",
       "  </tbody>\n",
       "</table>\n",
       "</div>"
      ],
      "text/plain": [
       "                 GDP  Homicides   Suicides  Guns.Per.Capita  \\\n",
       "count      61.000000   75.00000  68.000000        73.000000   \n",
       "mean    36203.278689    4.85120   1.057500        14.617671   \n",
       "std     24776.810174   11.39684   1.309996        14.965012   \n",
       "min      3700.000000    0.00000   0.000000         0.500000   \n",
       "25%     17400.000000    0.15500   0.247500         5.800000   \n",
       "50%     34100.000000    0.35000   0.785000         9.900000   \n",
       "75%     49600.000000    2.85000   1.255000        21.700000   \n",
       "max    124900.000000   66.64000   6.690000       101.000000   \n",
       "\n",
       "       Cultural.Diversity.Index  \n",
       "count                 68.000000  \n",
       "mean                   0.224588  \n",
       "std                    0.182577  \n",
       "min                    0.000000  \n",
       "25%                    0.077750  \n",
       "50%                    0.169500  \n",
       "75%                    0.369250  \n",
       "max                    0.667000  "
      ]
     },
     "execution_count": 3,
     "metadata": {},
     "output_type": "execute_result"
    }
   ],
   "source": [
    "guns.describe()"
   ]
  },
  {
   "cell_type": "markdown",
   "metadata": {},
   "source": [
    "### Make some columns pythonic"
   ]
  },
  {
   "cell_type": "code",
   "execution_count": 4,
   "metadata": {
    "collapsed": false
   },
   "outputs": [
    {
     "data": {
      "text/html": [
       "<div>\n",
       "<table border=\"1\" class=\"dataframe\">\n",
       "  <thead>\n",
       "    <tr style=\"text-align: right;\">\n",
       "      <th></th>\n",
       "      <th>Country</th>\n",
       "      <th>GDP</th>\n",
       "      <th>Homicides</th>\n",
       "      <th>Suicides</th>\n",
       "      <th>Guns_Per_Capita</th>\n",
       "      <th>Cultural_Diversity_Index</th>\n",
       "    </tr>\n",
       "  </thead>\n",
       "  <tbody>\n",
       "    <tr>\n",
       "      <th>0</th>\n",
       "      <td>Argentina</td>\n",
       "      <td>20700.0</td>\n",
       "      <td>2.58</td>\n",
       "      <td>1.57</td>\n",
       "      <td>4.6</td>\n",
       "      <td>0.000</td>\n",
       "    </tr>\n",
       "    <tr>\n",
       "      <th>1</th>\n",
       "      <td>Australia</td>\n",
       "      <td>49900.0</td>\n",
       "      <td>0.16</td>\n",
       "      <td>0.76</td>\n",
       "      <td>24.1</td>\n",
       "      <td>0.147</td>\n",
       "    </tr>\n",
       "    <tr>\n",
       "      <th>2</th>\n",
       "      <td>Austria</td>\n",
       "      <td>49200.0</td>\n",
       "      <td>0.10</td>\n",
       "      <td>2.43</td>\n",
       "      <td>30.4</td>\n",
       "      <td>0.100</td>\n",
       "    </tr>\n",
       "    <tr>\n",
       "      <th>3</th>\n",
       "      <td>Azerbaijan</td>\n",
       "      <td>17400.0</td>\n",
       "      <td>0.27</td>\n",
       "      <td>0.01</td>\n",
       "      <td>3.5</td>\n",
       "      <td>0.187</td>\n",
       "    </tr>\n",
       "    <tr>\n",
       "      <th>4</th>\n",
       "      <td>Barbados</td>\n",
       "      <td>17500.0</td>\n",
       "      <td>3.12</td>\n",
       "      <td>NaN</td>\n",
       "      <td>7.8</td>\n",
       "      <td>NaN</td>\n",
       "    </tr>\n",
       "  </tbody>\n",
       "</table>\n",
       "</div>"
      ],
      "text/plain": [
       "      Country      GDP  Homicides  Suicides  Guns_Per_Capita  \\\n",
       "0   Argentina  20700.0       2.58      1.57              4.6   \n",
       "1   Australia  49900.0       0.16      0.76             24.1   \n",
       "2     Austria  49200.0       0.10      2.43             30.4   \n",
       "3  Azerbaijan  17400.0       0.27      0.01              3.5   \n",
       "4    Barbados  17500.0       3.12       NaN              7.8   \n",
       "\n",
       "   Cultural_Diversity_Index  \n",
       "0                     0.000  \n",
       "1                     0.147  \n",
       "2                     0.100  \n",
       "3                     0.187  \n",
       "4                       NaN  "
      ]
     },
     "execution_count": 4,
     "metadata": {},
     "output_type": "execute_result"
    }
   ],
   "source": [
    "guns = guns.rename(index=str, columns={'Guns.Per.Capita': 'Guns_Per_Capita', 'Cultural.Diversity.Index': 'Cultural_Diversity_Index'})\n",
    "guns.head()"
   ]
  },
  {
   "cell_type": "markdown",
   "metadata": {},
   "source": [
    "### Remove rows with empty fields"
   ]
  },
  {
   "cell_type": "code",
   "execution_count": 5,
   "metadata": {
    "collapsed": false
   },
   "outputs": [
    {
     "data": {
      "text/plain": [
       "(76, 6)"
      ]
     },
     "execution_count": 5,
     "metadata": {},
     "output_type": "execute_result"
    }
   ],
   "source": [
    "guns.shape"
   ]
  },
  {
   "cell_type": "code",
   "execution_count": 6,
   "metadata": {
    "collapsed": false
   },
   "outputs": [
    {
     "data": {
      "text/plain": [
       "(51, 6)"
      ]
     },
     "execution_count": 6,
     "metadata": {},
     "output_type": "execute_result"
    }
   ],
   "source": [
    "guns = guns.dropna()\n",
    "guns.shape"
   ]
  },
  {
   "cell_type": "markdown",
   "metadata": {},
   "source": [
    "## Visuals"
   ]
  },
  {
   "cell_type": "code",
   "execution_count": 7,
   "metadata": {
    "collapsed": false
   },
   "outputs": [
    {
     "data": {
      "image/png": "[encoded data removed]",
      "text/plain": [
       "<matplotlib.figure.Figure at 0x1139a17b8>"
      ]
     },
     "metadata": {},
     "output_type": "display_data"
    }
   ],
   "source": [
    "guns.plot.scatter(x='Cultural_Diversity_Index', y='Homicides')\n",
    "plt.show()"
   ]
  },
  {
   "cell_type": "code",
   "execution_count": 8,
   "metadata": {
    "collapsed": false
   },
   "outputs": [
    {
     "data": {
      "image/png": "[encoded data removed]",
      "text/plain": [
       "<matplotlib.figure.Figure at 0x116029a90>"
      ]
     },
     "metadata": {},
     "output_type": "display_data"
    }
   ],
   "source": [
    "guns.plot.scatter(x='Guns_Per_Capita', y='Homicides')\n",
    "plt.show()"
   ]
  },
  {
   "cell_type": "code",
   "execution_count": null,
   "metadata": {
    "collapsed": true
   },
   "outputs": [],
   "source": []
  }
 ],
 "metadata": {
  "kernelspec": {
   "display_name": "Python [default]",
   "language": "python",
   "name": "python3"
  },
  "language_info": {
   "codemirror_mode": {
    "name": "ipython",
    "version": 3
   },
   "file_extension": ".py",
   "mimetype": "text/x-python",
   "name": "python",
   "nbconvert_exporter": "python",
   "pygments_lexer": "ipython3",
   "version": "3.6.0"
  }
 },
 "nbformat": 4,
 "nbformat_minor": 2
}
