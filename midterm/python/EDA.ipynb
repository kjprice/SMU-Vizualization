{
 "cells": [
  {
   "cell_type": "code",
   "execution_count": 1,
   "metadata": {
    "collapsed": false
   },
   "outputs": [],
   "source": [
    "import pandas as pd\n",
    "import numpy as np\n",
    "import matplotlib.pyplot as plt"
   ]
  },
  {
   "cell_type": "code",
   "execution_count": 2,
   "metadata": {
    "collapsed": true
   },
   "outputs": [],
   "source": [
    "guns = pd.read_csv('../midtermViz/data/GunViolenceClean.csv')"
   ]
  },
  {
   "cell_type": "code",
   "execution_count": 3,
   "metadata": {
    "collapsed": false
   },
   "outputs": [
    {
     "data": {
      "text/html": [
       "<div>\n",
       "<table border=\"1\" class=\"dataframe\">\n",
       "  <thead>\n",
       "    <tr style=\"text-align: right;\">\n",
       "      <th></th>\n",
       "      <th>Id</th>\n",
       "      <th>GDP</th>\n",
       "      <th>Homicides</th>\n",
       "      <th>Suicides</th>\n",
       "      <th>Guns_Per_Capita</th>\n",
       "      <th>Cultural_Diversity_Index</th>\n",
       "      <th>Latitude</th>\n",
       "      <th>Longitude</th>\n",
       "    </tr>\n",
       "  </thead>\n",
       "  <tbody>\n",
       "    <tr>\n",
       "      <th>count</th>\n",
       "      <td>76.000000</td>\n",
       "      <td>76.000000</td>\n",
       "      <td>76.000000</td>\n",
       "      <td>76.000000</td>\n",
       "      <td>76.000000</td>\n",
       "      <td>76.000000</td>\n",
       "      <td>76.000000</td>\n",
       "      <td>76.000000</td>\n",
       "    </tr>\n",
       "    <tr>\n",
       "      <th>mean</th>\n",
       "      <td>38.500000</td>\n",
       "      <td>31548.684211</td>\n",
       "      <td>4.791974</td>\n",
       "      <td>1.028816</td>\n",
       "      <td>14.431447</td>\n",
       "      <td>0.218789</td>\n",
       "      <td>27.700263</td>\n",
       "      <td>6.762368</td>\n",
       "    </tr>\n",
       "    <tr>\n",
       "      <th>std</th>\n",
       "      <td>22.083176</td>\n",
       "      <td>24314.711560</td>\n",
       "      <td>11.332375</td>\n",
       "      <td>1.241019</td>\n",
       "      <td>14.691788</td>\n",
       "      <td>0.173402</td>\n",
       "      <td>28.099808</td>\n",
       "      <td>64.414305</td>\n",
       "    </tr>\n",
       "    <tr>\n",
       "      <th>min</th>\n",
       "      <td>1.000000</td>\n",
       "      <td>0.000000</td>\n",
       "      <td>0.000000</td>\n",
       "      <td>0.000000</td>\n",
       "      <td>0.500000</td>\n",
       "      <td>0.000000</td>\n",
       "      <td>-40.900000</td>\n",
       "      <td>-106.350000</td>\n",
       "    </tr>\n",
       "    <tr>\n",
       "      <th>25%</th>\n",
       "      <td>19.750000</td>\n",
       "      <td>13075.000000</td>\n",
       "      <td>0.157500</td>\n",
       "      <td>0.295000</td>\n",
       "      <td>5.875000</td>\n",
       "      <td>0.093750</td>\n",
       "      <td>13.112500</td>\n",
       "      <td>-56.437500</td>\n",
       "    </tr>\n",
       "    <tr>\n",
       "      <th>50%</th>\n",
       "      <td>38.500000</td>\n",
       "      <td>26900.000000</td>\n",
       "      <td>0.350000</td>\n",
       "      <td>0.785000</td>\n",
       "      <td>9.900000</td>\n",
       "      <td>0.169500</td>\n",
       "      <td>39.015000</td>\n",
       "      <td>15.335000</td>\n",
       "    </tr>\n",
       "    <tr>\n",
       "      <th>75%</th>\n",
       "      <td>57.250000</td>\n",
       "      <td>44575.000000</td>\n",
       "      <td>2.715000</td>\n",
       "      <td>1.170000</td>\n",
       "      <td>21.175000</td>\n",
       "      <td>0.314000</td>\n",
       "      <td>47.735000</td>\n",
       "      <td>31.245000</td>\n",
       "    </tr>\n",
       "    <tr>\n",
       "      <th>max</th>\n",
       "      <td>76.000000</td>\n",
       "      <td>124900.000000</td>\n",
       "      <td>66.640000</td>\n",
       "      <td>6.690000</td>\n",
       "      <td>101.000000</td>\n",
       "      <td>0.667000</td>\n",
       "      <td>64.960000</td>\n",
       "      <td>174.890000</td>\n",
       "    </tr>\n",
       "  </tbody>\n",
       "</table>\n",
       "</div>"
      ],
      "text/plain": [
       "              Id            GDP  Homicides   Suicides  Guns_Per_Capita  \\\n",
       "count  76.000000      76.000000  76.000000  76.000000        76.000000   \n",
       "mean   38.500000   31548.684211   4.791974   1.028816        14.431447   \n",
       "std    22.083176   24314.711560  11.332375   1.241019        14.691788   \n",
       "min     1.000000       0.000000   0.000000   0.000000         0.500000   \n",
       "25%    19.750000   13075.000000   0.157500   0.295000         5.875000   \n",
       "50%    38.500000   26900.000000   0.350000   0.785000         9.900000   \n",
       "75%    57.250000   44575.000000   2.715000   1.170000        21.175000   \n",
       "max    76.000000  124900.000000  66.640000   6.690000       101.000000   \n",
       "\n",
       "       Cultural_Diversity_Index   Latitude   Longitude  \n",
       "count                 76.000000  76.000000   76.000000  \n",
       "mean                   0.218789  27.700263    6.762368  \n",
       "std                    0.173402  28.099808   64.414305  \n",
       "min                    0.000000 -40.900000 -106.350000  \n",
       "25%                    0.093750  13.112500  -56.437500  \n",
       "50%                    0.169500  39.015000   15.335000  \n",
       "75%                    0.314000  47.735000   31.245000  \n",
       "max                    0.667000  64.960000  174.890000  "
      ]
     },
     "execution_count": 3,
     "metadata": {},
     "output_type": "execute_result"
    }
   ],
   "source": [
    "guns.describe()"
   ]
  },
  {
   "cell_type": "markdown",
   "metadata": {},
   "source": [
    "### Remove rows with empty fields"
   ]
  },
  {
   "cell_type": "code",
   "execution_count": 4,
   "metadata": {
    "collapsed": false
   },
   "outputs": [
    {
     "data": {
      "text/plain": [
       "(76, 11)"
      ]
     },
     "execution_count": 4,
     "metadata": {},
     "output_type": "execute_result"
    }
   ],
   "source": [
    "guns.shape"
   ]
  },
  {
   "cell_type": "code",
   "execution_count": 5,
   "metadata": {
    "collapsed": false
   },
   "outputs": [
    {
     "data": {
      "text/plain": [
       "(76, 11)"
      ]
     },
     "execution_count": 5,
     "metadata": {},
     "output_type": "execute_result"
    }
   ],
   "source": [
    "guns = guns.dropna()\n",
    "guns.shape"
   ]
  },
  {
   "cell_type": "markdown",
   "metadata": {},
   "source": [
    "## Visuals"
   ]
  },
  {
   "cell_type": "code",
   "execution_count": 6,
   "metadata": {
    "collapsed": false
   },
   "outputs": [
    {
     "data": {
      "image/png": "[encoded data removed]",
      "text/plain": [
       "<matplotlib.figure.Figure at 0x119ded198>"
      ]
     },
     "metadata": {},
     "output_type": "display_data"
    }
   ],
   "source": [
    "guns.plot.scatter(x='Cultural_Diversity_Index', y='Homicides')\n",
    "plt.show()"
   ]
  },
  {
   "cell_type": "markdown",
   "metadata": {},
   "source": [
    "### Homicides versus Guns Per Capita"
   ]
  },
  {
   "cell_type": "code",
   "execution_count": 7,
   "metadata": {
    "collapsed": false
   },
   "outputs": [
    {
     "data": {
      "image/png": "[encoded data removed]",
      "text/plain": [
       "<matplotlib.figure.Figure at 0x119da4b38>"
      ]
     },
     "metadata": {},
     "output_type": "display_data"
    }
   ],
   "source": [
    "ax = guns.plot.scatter(x='Guns_Per_Capita', y='Homicides')\n",
    "fit = np.polyfit(guns.Guns_Per_Capita, guns.Homicides, deg=1)\n",
    "ax.plot(guns.Guns_Per_Capita, fit[0] * guns.Guns_Per_Capita + fit[1])\n",
    "plt.show()"
   ]
  },
  {
   "cell_type": "markdown",
   "metadata": {},
   "source": [
    "### Show regression using developed versus developing nations"
   ]
  },
  {
   "cell_type": "code",
   "execution_count": 8,
   "metadata": {
    "collapsed": true
   },
   "outputs": [],
   "source": [
    "developed_nations = guns[guns.developed_nation == True]\n",
    "developing_nations = guns[guns.developed_nation == False]"
   ]
  },
  {
   "cell_type": "code",
   "execution_count": 9,
   "metadata": {
    "collapsed": false
   },
   "outputs": [
    {
     "data": {
      "image/png": "[encoded data removed]",
      "text/plain": [
       "<matplotlib.figure.Figure at 0x11c4b16d8>"
      ]
     },
     "metadata": {},
     "output_type": "display_data"
    }
   ],
   "source": [
    "def developed_nations_plot():\n",
    "    ax = developed_nations.plot.scatter(x='Guns_Per_Capita', y='Homicides', color='green')\n",
    "    fit1 = np.polyfit(developed_nations.Guns_Per_Capita, developed_nations.Homicides, deg=1)\n",
    "    ax.plot(developed_nations.Guns_Per_Capita, fit1[0] * developed_nations.Guns_Per_Capita + fit1[1], color='green')\n",
    "    return ax\n",
    "\n",
    "def developing_nations_plot(ax):\n",
    "    developing_nations.plot.scatter(x='Guns_Per_Capita', y='Homicides', color='red', ax=ax)\n",
    "\n",
    "    fit2 = np.polyfit(developing_nations.Guns_Per_Capita, developing_nations.Homicides, deg=1)\n",
    "    ax.plot(developing_nations.Guns_Per_Capita, fit2[0] * developing_nations.Guns_Per_Capita + fit2[1], color='red')\n",
    "\n",
    "ax = developed_nations_plot()\n",
    "developing_nations_plot(ax)\n",
    "plt.show()"
   ]
  },
  {
   "cell_type": "markdown",
   "metadata": {},
   "source": [
    "### Homicides of developed nations"
   ]
  },
  {
   "cell_type": "code",
   "execution_count": 10,
   "metadata": {
    "collapsed": false
   },
   "outputs": [
    {
     "data": {
      "image/png": "[encoded data removed]",
      "text/plain": [
       "<matplotlib.figure.Figure at 0x11c3b0f60>"
      ]
     },
     "metadata": {},
     "output_type": "display_data"
    }
   ],
   "source": [
    "developed_nations_plot()\n",
    "plt.show()"
   ]
  },
  {
   "cell_type": "code",
   "execution_count": null,
   "metadata": {
    "collapsed": true
   },
   "outputs": [],
   "source": []
  }
 ],
 "metadata": {
  "kernelspec": {
   "display_name": "Python [default]",
   "language": "python",
   "name": "python3"
  },
  "language_info": {
   "codemirror_mode": {
    "name": "ipython",
    "version": 3
   },
   "file_extension": ".py",
   "mimetype": "text/x-python",
   "name": "python",
   "nbconvert_exporter": "python",
   "pygments_lexer": "ipython3",
   "version": "3.6.0"
  }
 },
 "nbformat": 4,
 "nbformat_minor": 2
}
